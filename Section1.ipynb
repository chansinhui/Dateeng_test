{
 "cells": [
  {
   "cell_type": "markdown",
   "metadata": {},
   "source": [
    "### Import Library and Load Data"
   ]
  },
  {
   "cell_type": "code",
   "execution_count": 86,
   "metadata": {},
   "outputs": [],
   "source": [
    "import pandas as pd"
   ]
  },
  {
   "cell_type": "code",
   "execution_count": 87,
   "metadata": {},
   "outputs": [],
   "source": [
    "df = pd.read_csv(\"https://raw.githubusercontent.com/jaabberwocky/dataeng_test/master/dataset.csv\",error_bad_lines=False)"
   ]
  },
  {
   "cell_type": "markdown",
   "metadata": {},
   "source": [
    "### Processing Data"
   ]
  },
  {
   "cell_type": "code",
   "execution_count": 88,
   "metadata": {},
   "outputs": [
    {
     "data": {
      "text/plain": [
       "name      object\n",
       "price    float64\n",
       "dtype: object"
      ]
     },
     "execution_count": 88,
     "metadata": {},
     "output_type": "execute_result"
    }
   ],
   "source": [
    "df.dtypes"
   ]
  },
  {
   "cell_type": "code",
   "execution_count": 89,
   "metadata": {},
   "outputs": [],
   "source": [
    "#Split the name field into first_name, and last_name\n",
    "df[\"first_name\"] = df[\"name\"].str.split(\" \",n=1,expand=True)[0]\n",
    "df[\"last_name\"] = df[\"name\"].str.split(\" \",n=1,expand=True)[1]"
   ]
  },
  {
   "cell_type": "code",
   "execution_count": 90,
   "metadata": {},
   "outputs": [],
   "source": [
    "#Remove any zeros prepended to the price field\n",
    "df[\"new_price\"] = [i.lstrip(\"0\") for i in df.price.astype(str)]\n",
    "df[\"new_price\"] = df[\"new_price\"].astype(float)"
   ]
  },
  {
   "cell_type": "code",
   "execution_count": 91,
   "metadata": {},
   "outputs": [
    {
     "data": {
      "text/html": [
       "<div>\n",
       "<style scoped>\n",
       "    .dataframe tbody tr th:only-of-type {\n",
       "        vertical-align: middle;\n",
       "    }\n",
       "\n",
       "    .dataframe tbody tr th {\n",
       "        vertical-align: top;\n",
       "    }\n",
       "\n",
       "    .dataframe thead th {\n",
       "        text-align: right;\n",
       "    }\n",
       "</style>\n",
       "<table border=\"1\" class=\"dataframe\">\n",
       "  <thead>\n",
       "    <tr style=\"text-align: right;\">\n",
       "      <th></th>\n",
       "      <th>name</th>\n",
       "      <th>price</th>\n",
       "      <th>first_name</th>\n",
       "      <th>last_name</th>\n",
       "      <th>new_price</th>\n",
       "    </tr>\n",
       "  </thead>\n",
       "  <tbody>\n",
       "    <tr>\n",
       "      <th>0</th>\n",
       "      <td>William Dixon</td>\n",
       "      <td>109.037280</td>\n",
       "      <td>William</td>\n",
       "      <td>Dixon</td>\n",
       "      <td>109.037280</td>\n",
       "    </tr>\n",
       "    <tr>\n",
       "      <th>1</th>\n",
       "      <td>Kristen Horn</td>\n",
       "      <td>262.524652</td>\n",
       "      <td>Kristen</td>\n",
       "      <td>Horn</td>\n",
       "      <td>262.524652</td>\n",
       "    </tr>\n",
       "    <tr>\n",
       "      <th>2</th>\n",
       "      <td>Kimberly Chang</td>\n",
       "      <td>187.007258</td>\n",
       "      <td>Kimberly</td>\n",
       "      <td>Chang</td>\n",
       "      <td>187.007258</td>\n",
       "    </tr>\n",
       "    <tr>\n",
       "      <th>3</th>\n",
       "      <td>Mary Ball</td>\n",
       "      <td>283.174648</td>\n",
       "      <td>Mary</td>\n",
       "      <td>Ball</td>\n",
       "      <td>283.174648</td>\n",
       "    </tr>\n",
       "    <tr>\n",
       "      <th>4</th>\n",
       "      <td>Benjamin Craig</td>\n",
       "      <td>143.871582</td>\n",
       "      <td>Benjamin</td>\n",
       "      <td>Craig</td>\n",
       "      <td>143.871582</td>\n",
       "    </tr>\n",
       "    <tr>\n",
       "      <th>...</th>\n",
       "      <td>...</td>\n",
       "      <td>...</td>\n",
       "      <td>...</td>\n",
       "      <td>...</td>\n",
       "      <td>...</td>\n",
       "    </tr>\n",
       "    <tr>\n",
       "      <th>9995</th>\n",
       "      <td>Rachel Davis</td>\n",
       "      <td>95.253955</td>\n",
       "      <td>Rachel</td>\n",
       "      <td>Davis</td>\n",
       "      <td>95.253955</td>\n",
       "    </tr>\n",
       "    <tr>\n",
       "      <th>9996</th>\n",
       "      <td>Connie Hamilton</td>\n",
       "      <td>205.396685</td>\n",
       "      <td>Connie</td>\n",
       "      <td>Hamilton</td>\n",
       "      <td>205.396685</td>\n",
       "    </tr>\n",
       "    <tr>\n",
       "      <th>9997</th>\n",
       "      <td>Sean Kaiser</td>\n",
       "      <td>80.547371</td>\n",
       "      <td>Sean</td>\n",
       "      <td>Kaiser</td>\n",
       "      <td>80.547371</td>\n",
       "    </tr>\n",
       "    <tr>\n",
       "      <th>9998</th>\n",
       "      <td>Ebony Rodriguez</td>\n",
       "      <td>93.205616</td>\n",
       "      <td>Ebony</td>\n",
       "      <td>Rodriguez</td>\n",
       "      <td>93.205616</td>\n",
       "    </tr>\n",
       "    <tr>\n",
       "      <th>9999</th>\n",
       "      <td>Gregg Alexander</td>\n",
       "      <td>297.046886</td>\n",
       "      <td>Gregg</td>\n",
       "      <td>Alexander</td>\n",
       "      <td>297.046886</td>\n",
       "    </tr>\n",
       "  </tbody>\n",
       "</table>\n",
       "<p>10000 rows × 5 columns</p>\n",
       "</div>"
      ],
      "text/plain": [
       "                 name       price first_name  last_name   new_price\n",
       "0       William Dixon  109.037280    William      Dixon  109.037280\n",
       "1        Kristen Horn  262.524652    Kristen       Horn  262.524652\n",
       "2      Kimberly Chang  187.007258   Kimberly      Chang  187.007258\n",
       "3           Mary Ball  283.174648       Mary       Ball  283.174648\n",
       "4      Benjamin Craig  143.871582   Benjamin      Craig  143.871582\n",
       "...               ...         ...        ...        ...         ...\n",
       "9995     Rachel Davis   95.253955     Rachel      Davis   95.253955\n",
       "9996  Connie Hamilton  205.396685     Connie   Hamilton  205.396685\n",
       "9997      Sean Kaiser   80.547371       Sean     Kaiser   80.547371\n",
       "9998  Ebony Rodriguez   93.205616      Ebony  Rodriguez   93.205616\n",
       "9999  Gregg Alexander  297.046886      Gregg  Alexander  297.046886\n",
       "\n",
       "[10000 rows x 5 columns]"
      ]
     },
     "execution_count": 91,
     "metadata": {},
     "output_type": "execute_result"
    }
   ],
   "source": [
    "#Delete any rows which do not have a name\n",
    "df[df.name.notnull()]"
   ]
  },
  {
   "cell_type": "code",
   "execution_count": 92,
   "metadata": {},
   "outputs": [
    {
     "data": {
      "text/html": [
       "<div>\n",
       "<style scoped>\n",
       "    .dataframe tbody tr th:only-of-type {\n",
       "        vertical-align: middle;\n",
       "    }\n",
       "\n",
       "    .dataframe tbody tr th {\n",
       "        vertical-align: top;\n",
       "    }\n",
       "\n",
       "    .dataframe thead th {\n",
       "        text-align: right;\n",
       "    }\n",
       "</style>\n",
       "<table border=\"1\" class=\"dataframe\">\n",
       "  <thead>\n",
       "    <tr style=\"text-align: right;\">\n",
       "      <th></th>\n",
       "      <th>name</th>\n",
       "      <th>price</th>\n",
       "      <th>first_name</th>\n",
       "      <th>last_name</th>\n",
       "      <th>new_price</th>\n",
       "    </tr>\n",
       "  </thead>\n",
       "  <tbody>\n",
       "  </tbody>\n",
       "</table>\n",
       "</div>"
      ],
      "text/plain": [
       "Empty DataFrame\n",
       "Columns: [name, price, first_name, last_name, new_price]\n",
       "Index: []"
      ]
     },
     "execution_count": 92,
     "metadata": {},
     "output_type": "execute_result"
    }
   ],
   "source": [
    "#double check\n",
    "df[(df.name.isnull()) | (df.name==\"\") | (df.name==\"NA\")]"
   ]
  },
  {
   "cell_type": "code",
   "execution_count": 93,
   "metadata": {},
   "outputs": [
    {
     "data": {
      "text/html": [
       "<div>\n",
       "<style scoped>\n",
       "    .dataframe tbody tr th:only-of-type {\n",
       "        vertical-align: middle;\n",
       "    }\n",
       "\n",
       "    .dataframe tbody tr th {\n",
       "        vertical-align: top;\n",
       "    }\n",
       "\n",
       "    .dataframe thead th {\n",
       "        text-align: right;\n",
       "    }\n",
       "</style>\n",
       "<table border=\"1\" class=\"dataframe\">\n",
       "  <thead>\n",
       "    <tr style=\"text-align: right;\">\n",
       "      <th></th>\n",
       "      <th>name</th>\n",
       "      <th>price</th>\n",
       "      <th>first_name</th>\n",
       "      <th>last_name</th>\n",
       "      <th>new_price</th>\n",
       "    </tr>\n",
       "  </thead>\n",
       "  <tbody>\n",
       "    <tr>\n",
       "      <th>249</th>\n",
       "      <td>Heather Collins</td>\n",
       "      <td>147.427407</td>\n",
       "      <td>Heather</td>\n",
       "      <td>Collins</td>\n",
       "      <td>147.427407</td>\n",
       "    </tr>\n",
       "    <tr>\n",
       "      <th>270</th>\n",
       "      <td>Robert Johnson</td>\n",
       "      <td>174.692235</td>\n",
       "      <td>Robert</td>\n",
       "      <td>Johnson</td>\n",
       "      <td>174.692235</td>\n",
       "    </tr>\n",
       "    <tr>\n",
       "      <th>292</th>\n",
       "      <td>William Taylor</td>\n",
       "      <td>275.633176</td>\n",
       "      <td>William</td>\n",
       "      <td>Taylor</td>\n",
       "      <td>275.633176</td>\n",
       "    </tr>\n",
       "    <tr>\n",
       "      <th>466</th>\n",
       "      <td>Tony Hall</td>\n",
       "      <td>135.855096</td>\n",
       "      <td>Tony</td>\n",
       "      <td>Hall</td>\n",
       "      <td>135.855096</td>\n",
       "    </tr>\n",
       "    <tr>\n",
       "      <th>542</th>\n",
       "      <td>James Miller</td>\n",
       "      <td>202.229649</td>\n",
       "      <td>James</td>\n",
       "      <td>Miller</td>\n",
       "      <td>202.229649</td>\n",
       "    </tr>\n",
       "    <tr>\n",
       "      <th>...</th>\n",
       "      <td>...</td>\n",
       "      <td>...</td>\n",
       "      <td>...</td>\n",
       "      <td>...</td>\n",
       "      <td>...</td>\n",
       "    </tr>\n",
       "    <tr>\n",
       "      <th>9944</th>\n",
       "      <td>Barbara Garcia</td>\n",
       "      <td>284.382510</td>\n",
       "      <td>Barbara</td>\n",
       "      <td>Garcia</td>\n",
       "      <td>284.382510</td>\n",
       "    </tr>\n",
       "    <tr>\n",
       "      <th>9946</th>\n",
       "      <td>Michael Johnson</td>\n",
       "      <td>14.656500</td>\n",
       "      <td>Michael</td>\n",
       "      <td>Johnson</td>\n",
       "      <td>14.656500</td>\n",
       "    </tr>\n",
       "    <tr>\n",
       "      <th>9952</th>\n",
       "      <td>Michael Payne</td>\n",
       "      <td>75.365019</td>\n",
       "      <td>Michael</td>\n",
       "      <td>Payne</td>\n",
       "      <td>75.365019</td>\n",
       "    </tr>\n",
       "    <tr>\n",
       "      <th>9989</th>\n",
       "      <td>Christopher Johnson</td>\n",
       "      <td>236.006414</td>\n",
       "      <td>Christopher</td>\n",
       "      <td>Johnson</td>\n",
       "      <td>236.006414</td>\n",
       "    </tr>\n",
       "    <tr>\n",
       "      <th>9995</th>\n",
       "      <td>Rachel Davis</td>\n",
       "      <td>95.253955</td>\n",
       "      <td>Rachel</td>\n",
       "      <td>Davis</td>\n",
       "      <td>95.253955</td>\n",
       "    </tr>\n",
       "  </tbody>\n",
       "</table>\n",
       "<p>614 rows × 5 columns</p>\n",
       "</div>"
      ],
      "text/plain": [
       "                     name       price   first_name last_name   new_price\n",
       "249       Heather Collins  147.427407      Heather   Collins  147.427407\n",
       "270        Robert Johnson  174.692235       Robert   Johnson  174.692235\n",
       "292        William Taylor  275.633176      William    Taylor  275.633176\n",
       "466             Tony Hall  135.855096         Tony      Hall  135.855096\n",
       "542          James Miller  202.229649        James    Miller  202.229649\n",
       "...                   ...         ...          ...       ...         ...\n",
       "9944       Barbara Garcia  284.382510      Barbara    Garcia  284.382510\n",
       "9946      Michael Johnson   14.656500      Michael   Johnson   14.656500\n",
       "9952        Michael Payne   75.365019      Michael     Payne   75.365019\n",
       "9989  Christopher Johnson  236.006414  Christopher   Johnson  236.006414\n",
       "9995         Rachel Davis   95.253955       Rachel     Davis   95.253955\n",
       "\n",
       "[614 rows x 5 columns]"
      ]
     },
     "execution_count": 93,
     "metadata": {},
     "output_type": "execute_result"
    }
   ],
   "source": [
    "#check duplicates\n",
    "df.loc[df.duplicated(subset=['name'])]"
   ]
  },
  {
   "cell_type": "code",
   "execution_count": 94,
   "metadata": {
    "scrolled": true
   },
   "outputs": [],
   "source": [
    "#Create a new field named above_100, which is true if the price is strictly greater than 100\n",
    "df['above_100'] = df['new_price'].apply(lambda x: 'true' if x>100 else 'false')"
   ]
  },
  {
   "cell_type": "code",
   "execution_count": 95,
   "metadata": {},
   "outputs": [],
   "source": [
    "new_df = df[[\"name\",\"first_name\",\"last_name\",\"new_price\",\"above_100\"]]"
   ]
  },
  {
   "cell_type": "code",
   "execution_count": 99,
   "metadata": {},
   "outputs": [],
   "source": [
    "new_df.to_csv(\"./ProcessedFile.csv\")"
   ]
  },
  {
   "cell_type": "code",
   "execution_count": null,
   "metadata": {},
   "outputs": [],
   "source": []
  }
 ],
 "metadata": {
  "kernelspec": {
   "display_name": "Python 3",
   "language": "python",
   "name": "python3"
  },
  "language_info": {
   "codemirror_mode": {
    "name": "ipython",
    "version": 3
   },
   "file_extension": ".py",
   "mimetype": "text/x-python",
   "name": "python",
   "nbconvert_exporter": "python",
   "pygments_lexer": "ipython3",
   "version": "3.8.3"
  }
 },
 "nbformat": 4,
 "nbformat_minor": 4
}
